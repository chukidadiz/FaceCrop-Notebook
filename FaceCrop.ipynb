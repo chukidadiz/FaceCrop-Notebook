{
 "cells": [
  {
   "cell_type": "markdown",
   "metadata": {},
   "source": [
    "# Face Crop"
   ]
  },
  {
   "cell_type": "code",
   "execution_count": 47,
   "metadata": {},
   "outputs": [],
   "source": [
    "path_of_the_file = \"C:/Users/dadidelux/Desktop/DSP Training Files/img/\""
   ]
  },
  {
   "cell_type": "code",
   "execution_count": 61,
   "metadata": {},
   "outputs": [
    {
     "name": "stdout",
     "output_type": "stream",
     "text": [
      "C:/Users/dadidelux/Desktop/DSP Training Files/img/123.jpg\n",
      "C:/Users/dadidelux/Desktop/DSP Training Files/img/kamote.jpg\n",
      "C:/Users/dadidelux/Desktop/DSP Training Files/img/king.jpg\n",
      "C:/Users/dadidelux/Desktop/DSP Training Files/img/output/\n"
     ]
    }
   ],
   "source": [
    "import cv2\n",
    "import sys\n",
    "import os\n",
    "import os.path\n",
    "\n",
    "folderPath = path_of_the_file\n",
    "fileEnding = \".jpg\"\n",
    "imagePath = 'king.jpg'\n",
    "cascPath =  'img/haarcascade_frontalface_default.xml'\n",
    "FacePictureSize =224\n",
    "\n",
    "\n",
    "# Create the haar cascade\n",
    "faceCascade = cv2.CascadeClassifier(cascPath)\n",
    "\n",
    "#os.mkdir(folderPath+'output/')\n",
    "\n",
    "for dirpath, dirnames, filenames in os.walk(folderPath):\n",
    "    for filename in [f for f in filenames if f.endswith(fileEnding)]:\n",
    "        print (os.path.join(dirpath, filename))\n",
    "        image = cv2.imread(os.path.join(dirpath, filename))\n",
    "        gray = cv2.cvtColor(image, cv2.COLOR_BGR2GRAY)\n",
    "        # Detect faces in the image\n",
    "        faces = faceCascade.detectMultiScale(\n",
    "            gray,\n",
    "            scaleFactor=1.1,\n",
    "            minNeighbors=5,\n",
    "            minSize=(30, 30)\n",
    "            #flags = cv2.CV_HAAR_SCALE_IMAGE\n",
    "        )\n",
    "        ImageWidth = len(image[0])\n",
    "        ImageHeight = len(image)\n",
    "        for (x, y, w, h) in faces:\n",
    "            xn = int((x+(h/2.0))-(FacePictureSize/2.0))\n",
    "            yn = int((y+(w/2.0))-(FacePictureSize/2.0))\n",
    "            if(xn<0):\n",
    "                xn=0\n",
    "            if(xn+FacePictureSize>ImageWidth):\n",
    "                xn = ImageWidth-FacePictureSize\n",
    "            if (yn<0):\n",
    "                yn=0\n",
    "            if(yn+FacePictureSize>ImageHeight):\n",
    "                yn = ImageHeight-FacePictureSize\n",
    "                #print(\"From {0} , {1} to {2}, {3}\".format(xn,yn,xn+FacePictureSize,yn+FacePictureSize))\n",
    "            newimage = image[yn:yn+FacePictureSize,xn:xn+FacePictureSize]\n",
    "            cv2.imwrite(os.path.join((folderPath),filename),newimage)\n",
    "print(os.path.join((folderPath+'output/')))"
   ]
  },
  {
   "cell_type": "code",
   "execution_count": 56,
   "metadata": {},
   "outputs": [
    {
     "data": {
      "text/plain": [
       "-1"
      ]
     },
     "execution_count": 56,
     "metadata": {},
     "output_type": "execute_result"
    }
   ],
   "source": [
    "cv2.imshow('ImageWindow', newimage)\n",
    "cv2.waitKey()"
   ]
  },
  {
   "cell_type": "code",
   "execution_count": 58,
   "metadata": {},
   "outputs": [
    {
     "data": {
      "text/plain": [
       "True"
      ]
     },
     "execution_count": 58,
     "metadata": {},
     "output_type": "execute_result"
    }
   ],
   "source": [
    "cv2.imwrite(os.path.join((\"C:/Users/dadidelux/Desktop/DSP Training Files/img/\"),filename),newimage)"
   ]
  },
  {
   "cell_type": "code",
   "execution_count": null,
   "metadata": {},
   "outputs": [],
   "source": []
  }
 ],
 "metadata": {
  "kernelspec": {
   "display_name": "Python 3",
   "language": "python",
   "name": "python3"
  },
  "language_info": {
   "codemirror_mode": {
    "name": "ipython",
    "version": 3
   },
   "file_extension": ".py",
   "mimetype": "text/x-python",
   "name": "python",
   "nbconvert_exporter": "python",
   "pygments_lexer": "ipython3",
   "version": "3.6.7"
  }
 },
 "nbformat": 4,
 "nbformat_minor": 2
}
